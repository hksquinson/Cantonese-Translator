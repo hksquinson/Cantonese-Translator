{
 "cells": [
  {
   "cell_type": "code",
   "execution_count": 11,
   "metadata": {},
   "outputs": [],
   "source": [
    "import os\n",
    "\n",
    "import pandas as pd\n",
    "import numpy as np\n",
    "from transformers import AutoModelForCausalLM, AutoTokenizer\n",
    "from peft import get_peft_model, LoraConfig, TaskType"
   ]
  },
  {
   "cell_type": "code",
   "execution_count": 9,
   "metadata": {},
   "outputs": [
    {
     "name": "stdout",
     "output_type": "stream",
     "text": [
      "                                            en yue\n",
      "0                               Scoop up water  㧾水\n",
      "1                               Ladle out soup  㧾湯\n",
      "2                   Third son of a rich family  三少\n",
      "3  Young pigeon or squab that has been roasted  乳鴿\n",
      "4               Husband's second older brother  二少\n",
      "5                                    This time  今勻\n",
      "6                   One dollar and sixty cents  個六\n",
      "7                                       Rabbit  兔仔\n",
      "8                       Exit through turnstile  出閘\n",
      "9                    Chop something into cubes  切粒\n"
     ]
    }
   ],
   "source": [
    "REPO_DIRECTORY = r'/Users/kwanshunquinsonhon/Documents/GitHub/'\n",
    "ABC_DICT_PATH = r'/AIST4010-Cantonese-Translator-Data/ABC-Dict/abc_dict.csv'\n",
    "\n",
    "def load_abc_dict():\n",
    "    abc_dict = pd.read_csv(REPO_DIRECTORY + ABC_DICT_PATH)\n",
    "    return abc_dict\n",
    "\n",
    "abc_dict = load_abc_dict()\n",
    "print(abc_dict[:10])"
   ]
  },
  {
   "cell_type": "code",
   "execution_count": null,
   "metadata": {},
   "outputs": [],
   "source": [
    "#convert the abc_dict to a dataset"
   ]
  }
 ],
 "metadata": {
  "kernelspec": {
   "display_name": "translate",
   "language": "python",
   "name": "python3"
  },
  "language_info": {
   "codemirror_mode": {
    "name": "ipython",
    "version": 3
   },
   "file_extension": ".py",
   "mimetype": "text/x-python",
   "name": "python",
   "nbconvert_exporter": "python",
   "pygments_lexer": "ipython3",
   "version": "3.10.13"
  }
 },
 "nbformat": 4,
 "nbformat_minor": 2
}
